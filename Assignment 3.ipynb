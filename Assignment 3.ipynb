{
 "cells": [
  {
   "cell_type": "code",
   "execution_count": 14,
   "metadata": {},
   "outputs": [
    {
     "name": "stdout",
     "output_type": "stream",
     "text": [
      "15\n"
     ]
    }
   ],
   "source": [
    "'''Assignment 3 Question 1 '''\n",
    "def my_reduce(add,lst):\n",
    "    return a\n",
    "\n",
    "def add(a,b):\n",
    "    return a+b\n",
    "\n",
    "lst=[1,2,3,4,5]\n",
    "a=lst[0]\n",
    "\n",
    "for i in range(1,len(lst)):\n",
    "    b=lst[i]\n",
    "    a=add(a,b)\n",
    "    \n",
    "print(my_reduce(add,lst))\n",
    "    "
   ]
  },
  {
   "cell_type": "code",
   "execution_count": 24,
   "metadata": {},
   "outputs": [
    {
     "data": {
      "text/plain": [
       "[2, 4, 6, 66, 88]"
      ]
     },
     "execution_count": 24,
     "metadata": {},
     "output_type": "execute_result"
    }
   ],
   "source": [
    "'''Assignment 3 Question 2 '''\n",
    "\n",
    "def my_filter(even,lst):\n",
    "    return even(a)\n",
    "lst=[1,2,3,4,5,6,7,87,55,66,88]\n",
    "lst2=[]\n",
    "\n",
    "def even(a):\n",
    "    for i in lst:\n",
    "        if i%2==0:\n",
    "            lst2.append(i)\n",
    "    return lst2\n",
    "\n",
    "my_filter(even,lst)"
   ]
  },
  {
   "cell_type": "code",
   "execution_count": null,
   "metadata": {},
   "outputs": [],
   "source": []
  }
 ],
 "metadata": {
  "kernelspec": {
   "display_name": "Python 3",
   "language": "python",
   "name": "python3"
  },
  "language_info": {
   "codemirror_mode": {
    "name": "ipython",
    "version": 3
   },
   "file_extension": ".py",
   "mimetype": "text/x-python",
   "name": "python",
   "nbconvert_exporter": "python",
   "pygments_lexer": "ipython3",
   "version": "3.8.3"
  }
 },
 "nbformat": 4,
 "nbformat_minor": 4
}
